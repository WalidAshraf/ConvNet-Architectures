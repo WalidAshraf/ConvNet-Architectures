{
 "cells": [
  {
   "cell_type": "code",
   "execution_count": null,
   "metadata": {},
   "outputs": [],
   "source": [
    "import numpy as np\n",
    "import matplotlib.pyplot as plt\n",
    "from scipy import misc\n",
    "import os\n",
    "from data_utils import getDataSet, deprocessImage\n",
    "import math\n",
    "from keras.models import Sequential\n",
    "from keras.layers import Conv2D, BatchNormalization, Activation, MaxPooling2D, Flatten, Dense, Dropout\n",
    "from keras.initializers import RandomNormal, Ones\n",
    "from keras.optimizers import SGD\n",
    "from keras.utils import to_categorical"
   ]
  },
  {
   "cell_type": "code",
   "execution_count": null,
   "metadata": {},
   "outputs": [],
   "source": [
    "X_train, y_train, X_val, y_val, X_test, y_test, classes_dic, mean = getDataSet('101_ObjectCategories/', 500, 1000)"
   ]
  },
  {
   "cell_type": "code",
   "execution_count": null,
   "metadata": {},
   "outputs": [],
   "source": [
    "num_classes = len(classes_dic)\n",
    "print ('X_train shape: {}'.format(X_train.shape))\n",
    "print ('y_train shape: {}'.format(y_train.shape))\n",
    "print ('X_val shape: {}'.format(X_val.shape))\n",
    "print ('y_val shape: {}'.format(y_val.shape))\n",
    "print ('X_test shape: {}'.format(X_test.shape))\n",
    "print ('y_test shape: {}'.format(y_test.shape))\n",
    "print ('number of classes: ' + str(num_classes))"
   ]
  },
  {
   "cell_type": "code",
   "execution_count": null,
   "metadata": {},
   "outputs": [],
   "source": [
    "i = np.random.randint(0, 7145)\n",
    "plt.imshow(np.uint8(deprocessImage(X_train[i], mean)))\n",
    "print (classes_dic[y_train[i]])"
   ]
  },
  {
   "cell_type": "code",
   "execution_count": null,
   "metadata": {},
   "outputs": [],
   "source": [
    "def AlexNetModel(num_classes):\n",
    "    model = Sequential()\n",
    "    model.add(Conv2D(filters=96, kernel_size=(11, 11), strides=(4, 4), kernel_initializer=RandomNormal(stddev=0.01), bias_initializer=Ones(), data_format=\"channels_last\"))\n",
    "    model.add(BatchNormalization())\n",
    "    model.add(Activation('relu'))\n",
    "    model.add(MaxPooling2D(pool_size=(3, 3), strides=(2, 2)))\n",
    "    \n",
    "    model.add(Conv2D(filters=256, kernel_size=(5, 5), kernel_initializer=RandomNormal(stddev=0.01), bias_initializer=Ones(), data_format=\"channels_last\"))\n",
    "    model.add(BatchNormalization())\n",
    "    model.add(Activation('relu'))\n",
    "    model.add(MaxPooling2D(pool_size=(3, 3), strides=(2, 2)))\n",
    "    \n",
    "    model.add(Conv2D(filters=384, kernel_size=(3, 3), kernel_initializer=RandomNormal(stddev=0.01), bias_initializer=Ones(), activation=\"relu\", data_format=\"channels_last\"))\n",
    "    model.add(Conv2D(filters=384, kernel_size=(3, 3), kernel_initializer=RandomNormal(stddev=0.01), bias_initializer=Ones(), activation=\"relu\", data_format=\"channels_last\"))\n",
    "    model.add(Conv2D(filters=256, kernel_size=(3, 3), kernel_initializer=RandomNormal(stddev=0.01), bias_initializer=Ones(), activation=\"relu\", data_format=\"channels_last\"))\n",
    "    \n",
    "    model.add(MaxPooling2D(pool_size=(3, 3), strides=(2, 2)))\n",
    "    \n",
    "    model.add(Flatten())\n",
    "    \n",
    "    model.add(Dense(units=4096, activation=\"relu\", kernel_initializer=RandomNormal(stddev=0.01), bias_initializer=Ones()))\n",
    "    model.add(Dropout(0.5))\n",
    "    model.add(Dense(units=4096, activation=\"relu\", kernel_initializer=RandomNormal(stddev=0.01), bias_initializer=Ones()))\n",
    "    model.add(Dropout(0.5))\n",
    "    \n",
    "    model.add(Dense(units=num_classes, kernel_initializer=RandomNormal(stddev=0.01), bias_initializer=Ones(), activation=\"softmax\"))\n",
    "    \n",
    "    return model"
   ]
  },
  {
   "cell_type": "code",
   "execution_count": null,
   "metadata": {
    "scrolled": true
   },
   "outputs": [],
   "source": [
    "model = AlexNetModel(num_classes)\n",
    "optimizer = SGD(lr=0.007, momentum=0.9, decay=0.005, nesterov=True)\n",
    "model.compile(optimizer=optimizer, loss=\"categorical_crossentropy\", metrics=['accuracy'])\n",
    "model.fit(X_train, to_categorical(y_train, num_classes), epochs=30, batch_size=128, validation_data=(X_val, to_categorical(y_val, num_classes)))"
   ]
  },
  {
   "cell_type": "code",
   "execution_count": null,
   "metadata": {},
   "outputs": [],
   "source": [
    "history = model.fit(X_train, to_categorical(y_train, num_classes), epochs=1, batch_size=128, validation_data=(X_val, to_categorical(y_val, num_classes)))\n",
    "print (history.history)"
   ]
  },
  {
   "cell_type": "code",
   "execution_count": null,
   "metadata": {
    "scrolled": true
   },
   "outputs": [],
   "source": [
    "max_val_acc = max_val_acc\n",
    "val_accs = val_accs\n",
    "train_accs = train_accs\n",
    "num_iters = num_iters\n",
    "for i in range(50):\n",
    "    num_iters += 1\n",
    "    history = model.fit(X_train, to_categorical(y_train, num_classes), epochs=1, batch_size=128, validation_data=(X_val, to_categorical(y_val, num_classes)))\n",
    "    if history.history['val_acc'][0] > max_val_acc:\n",
    "        max_val_acc = history.history['val_acc'][0]\n",
    "        model.save('model_keras.h5')\n",
    "    val_accs.append(history.history['val_acc'][0])\n",
    "    train_accs.append(history.history['acc'][0])"
   ]
  },
  {
   "cell_type": "code",
   "execution_count": null,
   "metadata": {},
   "outputs": [],
   "source": [
    "print(max_val_acc)\n",
    "print(num_iters)"
   ]
  },
  {
   "cell_type": "code",
   "execution_count": null,
   "metadata": {},
   "outputs": [],
   "source": [
    "model.evaluate(X_val, to_categorical(y_val, num_classes))"
   ]
  },
  {
   "cell_type": "code",
   "execution_count": null,
   "metadata": {},
   "outputs": [],
   "source": [
    "model.evaluate(X_test, to_categorical(y_test, num_classes))"
   ]
  },
  {
   "cell_type": "code",
   "execution_count": null,
   "metadata": {},
   "outputs": [],
   "source": [
    "model.save('model_keras.h5')"
   ]
  },
  {
   "cell_type": "code",
   "execution_count": null,
   "metadata": {},
   "outputs": [],
   "source": []
  }
 ],
 "metadata": {
  "kernelspec": {
   "display_name": "Python 3",
   "language": "python",
   "name": "python3"
  },
  "language_info": {
   "codemirror_mode": {
    "name": "ipython",
    "version": 3
   },
   "file_extension": ".py",
   "mimetype": "text/x-python",
   "name": "python",
   "nbconvert_exporter": "python",
   "pygments_lexer": "ipython3",
   "version": "3.6.2"
  }
 },
 "nbformat": 4,
 "nbformat_minor": 2
}
