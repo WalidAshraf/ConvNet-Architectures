{
 "cells": [
  {
   "cell_type": "code",
   "execution_count": null,
   "metadata": {},
   "outputs": [],
   "source": [
    "import numpy as np\n",
    "import tensorflow as tf\n",
    "import matplotlib.pyplot as plt\n",
    "from scipy import misc\n",
    "import os\n",
    "from data_utils import getDataSet, deprocessImage\n",
    "import math"
   ]
  },
  {
   "cell_type": "code",
   "execution_count": null,
   "metadata": {},
   "outputs": [],
   "source": [
    "X_train, y_train, X_val, y_val, X_test, y_test, classes_dic, mean = getDataSet('101_ObjectCategories/', 200, 300)"
   ]
  },
  {
   "cell_type": "code",
   "execution_count": null,
   "metadata": {},
   "outputs": [],
   "source": [
    "print ('X_train shape: {}'.format(X_train.shape))\n",
    "print ('y_train shape: {}'.format(y_train.shape))\n",
    "print ('X_val shape: {}'.format(X_val.shape))\n",
    "print ('y_val shape: {}'.format(y_val.shape))\n",
    "print ('X_test shape: {}'.format(X_test.shape))\n",
    "print ('y_test shape: {}'.format(y_test.shape))"
   ]
  },
  {
   "cell_type": "code",
   "execution_count": null,
   "metadata": {},
   "outputs": [],
   "source": [
    "i = np.random.randint(0, 7145)\n",
    "plt.imshow(np.uint8(deprocessImage(X_train[i], mean)))\n",
    "print (classes_dic[y_train[i]])"
   ]
  },
  {
   "cell_type": "code",
   "execution_count": null,
   "metadata": {},
   "outputs": [],
   "source": [
    "def convVGG(a, num_filters):\n",
    "    return tf.layers.conv2d(a, filters=num_filters, kernel_size=(3, 3), strides=(1, 1), padding=\"same\", kernel_initializer=tf.initializers.random_normal(stddev=0.01), bias_initializer=tf.initializers.zeros(), activation=\"relu\", kernel_regularizer=tf.contrib.layers.l2_regularizer(5e-4))"
   ]
  },
  {
   "cell_type": "code",
   "execution_count": null,
   "metadata": {},
   "outputs": [],
   "source": [
    "def FC(a, units):\n",
    "    return tf.layers.dropout(tf.layers.dense(a, units=units, kernel_initializer=tf.initializers.random_normal(stddev=0.01), bias_initializer=tf.initializers.zeros(), activation=\"relu\", kernel_regularizer=tf.contrib.layers.l2_regularizer(5e-4)))"
   ]
  },
  {
   "cell_type": "code",
   "execution_count": null,
   "metadata": {},
   "outputs": [],
   "source": [
    "def VGG16Model(x, num_classes):\n",
    "    a1 = convVGG(x, 64)\n",
    "    a2 = convVGG(a1, 64)\n",
    "    a3 = tf.layers.max_pooling2d(a2, pool_size=(2, 2), strides=(2, 2))\n",
    "    \n",
    "    a4 = convVGG(a3, 128)\n",
    "    a5 = convVGG(a4, 128)\n",
    "    a6 = tf.layers.max_pooling2d(a5, pool_size=(3, 3), strides=(2, 2))\n",
    "    \n",
    "    a7 = convVGG(a6, 256)\n",
    "    a8 = convVGG(a7, 256)\n",
    "    #a9 = convVGG(a8, 256)\n",
    "    a10 = tf.layers.max_pooling2d(a8, pool_size=(3, 3), strides=(2, 2))\n",
    "    \n",
    "    a11 = convVGG(a10, 512)\n",
    "    a12 = convVGG(a11, 512)\n",
    "    #a13 = convVGG(a12, 512)\n",
    "    a14 = tf.layers.max_pooling2d(a12, pool_size=(3, 3), strides=(2, 2))\n",
    "    \n",
    "    a15 = convVGG(a14, 512)\n",
    "    a16 = convVGG(a15, 512)\n",
    "    #a17 = convVGG(a16, 512)\n",
    "    a18 = tf.layers.max_pooling2d(a16, pool_size=(3, 3), strides=(2, 2))\n",
    "    \n",
    "    a18 = tf.layers.flatten(a18)\n",
    "    \n",
    "    a19 = FC(a18, 4096)\n",
    "    a20 = FC(a19, 4096)\n",
    "    \n",
    "    scores = tf.layers.dense(a20, units=num_classes)\n",
    "    \n",
    "    return scores"
   ]
  },
  {
   "cell_type": "code",
   "execution_count": null,
   "metadata": {},
   "outputs": [],
   "source": [
    "def run_model(session, predict, loss_val, Xd, yd,\n",
    "              epochs=1, batch_size=64, print_every=100,\n",
    "              training=None, plot_losses=False):\n",
    "    # have tensorflow compute accuracy\n",
    "    correct_prediction = tf.equal(tf.cast(tf.argmax(predict,1), tf.int32), y)\n",
    "    accuracy = tf.reduce_mean(tf.cast(correct_prediction, tf.float32))\n",
    "    \n",
    "    # shuffle indicies\n",
    "    train_indicies = np.arange(Xd.shape[0])\n",
    "    np.random.shuffle(train_indicies)\n",
    "\n",
    "    training_now = training is not None\n",
    "    \n",
    "    # setting up variables we want to compute (and optimizing)\n",
    "    # if we have a training function, add that to things we compute\n",
    "    variables = [mean_loss,correct_prediction,accuracy]\n",
    "    if training_now:\n",
    "        variables[-1] = training\n",
    "    \n",
    "    # counter \n",
    "    iter_cnt = 0\n",
    "    for e in range(epochs):\n",
    "        # keep track of losses and accuracy\n",
    "        correct = 0\n",
    "        losses = []\n",
    "        # make sure we iterate over the dataset once\n",
    "        for i in range(int(math.ceil(Xd.shape[0]/batch_size))):\n",
    "            # generate indicies for the batch\n",
    "            start_idx = (i*batch_size)%Xd.shape[0]\n",
    "            idx = train_indicies[start_idx:start_idx+batch_size]\n",
    "            \n",
    "            # create a feed dictionary for this batch\n",
    "            feed_dict = {X: Xd[idx,:],\n",
    "                         y: yd[idx],\n",
    "                         is_training: training_now }\n",
    "            # get batch size\n",
    "            actual_batch_size = yd[idx].shape[0]\n",
    "            \n",
    "            # have tensorflow compute loss and correct predictions\n",
    "            # and (if given) perform a training step\n",
    "            loss, corr, _ = session.run(variables,feed_dict=feed_dict)\n",
    "            \n",
    "            # aggregate performance stats\n",
    "            losses.append(loss*actual_batch_size)\n",
    "            correct += np.sum(corr)\n",
    "            \n",
    "            # print every now and then\n",
    "            if training_now and (iter_cnt % print_every) == 0:\n",
    "                print(\"Iteration {0}: with minibatch training loss = {1:.3g} and accuracy of {2:.2g}\"\\\n",
    "                      .format(iter_cnt,loss,np.sum(corr)/float(actual_batch_size)))\n",
    "            iter_cnt += 1\n",
    "        total_correct = float(correct)/Xd.shape[0]\n",
    "        total_loss = np.sum(losses, dtype=float)/Xd.shape[0]\n",
    "        print(\"Epoch {2}, Overall loss = {0:.3g} and accuracy of {1:.3g}\"\\\n",
    "              .format(total_loss,total_correct,e+1))\n",
    "        if plot_losses:\n",
    "            plt.plot(losses)\n",
    "            plt.grid(True)\n",
    "            plt.title('Epoch {} Loss'.format(e+1))\n",
    "            plt.xlabel('minibatch number')\n",
    "            plt.ylabel('minibatch loss')\n",
    "            plt.show()\n",
    "    return total_loss,total_correct"
   ]
  },
  {
   "cell_type": "code",
   "execution_count": null,
   "metadata": {
    "scrolled": true
   },
   "outputs": [],
   "source": [
    "tf.reset_default_graph()\n",
    "\n",
    "X = tf.placeholder(tf.float32, [None, 224, 224, 3])\n",
    "y = tf.placeholder(tf.int32, [None])\n",
    "is_training = tf.placeholder(tf.bool)\n",
    "\n",
    "num_classes = len(classes_dic)\n",
    "\n",
    "y_out = VGG16Model(X, num_classes)\n",
    "\n",
    "total_loss = tf.losses.softmax_cross_entropy(tf.one_hot(y,num_classes),logits=y_out)\n",
    "mean_loss = tf.reduce_mean(total_loss)\n",
    "\n",
    "#global_step = tf.Variable(0, trainable=False)\n",
    "#starter_learning_rate = 0.02\n",
    "#learning_rate = tf.train.exponential_decay(starter_learning_rate, global_step,\n",
    " #                                          500, 0.96, staircase=True)\n",
    "\n",
    "optimizer = tf.train.MomentumOptimizer(0.01, 0.9)\n",
    "\n",
    "extra_update_ops = tf.get_collection(tf.GraphKeys.UPDATE_OPS)\n",
    "with tf.control_dependencies(extra_update_ops):\n",
    "    train_step = optimizer.minimize(mean_loss)\n",
    "    \n",
    "    \n",
    "saver = tf.train.Saver()\n",
    "\n",
    "config = tf.ConfigProto()\n",
    "config.gpu_options.allocator_type = 'BFC'\n",
    "\n",
    "sess = tf.Session(config = config)\n",
    "\n",
    "sess.run(tf.global_variables_initializer())\n",
    "train_accs = []\n",
    "val_accs = []\n",
    "max_val_acc = 0.0\n",
    "for i in range(50):    \n",
    "    print('Training')\n",
    "    loss, acc = run_model(sess,y_out,mean_loss,X_train,y_train,1,40,100,train_step,True)\n",
    "    train_accs.append(acc)\n",
    "    print('Validation')\n",
    "    loss, acc = run_model(sess,y_out,mean_loss,X_val,y_val,1,40)\n",
    "    val_accs.append(acc)\n",
    "    if acc > max_val_acc:\n",
    "        max_val_acc = acc\n",
    "        saver.save(sess, './model_tensorflow.ckpt')"
   ]
  },
  {
   "cell_type": "code",
   "execution_count": null,
   "metadata": {},
   "outputs": [],
   "source": [
    "t = range(len(train_accs))\n",
    "plt.plot(t, train_accs, 'r--', label = \"train acc\")\n",
    "plt.plot(t, val_accs, 'b--', label = \"test acc\")\n",
    "plt.xlabel('epochs')\n",
    "plt.ylabel('accuracy')\n",
    "plt.legend(bbox_to_anchor=(0., 1.02, 1., .102), loc=3,\n",
    "           ncol=2, mode=\"expand\", borderaxespad=0.)\n",
    "plt.savefig('train_val_acc.jpg')\n",
    "plt.show()"
   ]
  },
  {
   "cell_type": "code",
   "execution_count": null,
   "metadata": {},
   "outputs": [],
   "source": [
    "saver.restore(sess, \"model_tensorflow.ckpt\")"
   ]
  },
  {
   "cell_type": "code",
   "execution_count": null,
   "metadata": {},
   "outputs": [],
   "source": [
    "print('Validation')\n",
    "run_model(sess,y_out,mean_loss,X_val,y_val,1,40)"
   ]
  },
  {
   "cell_type": "code",
   "execution_count": null,
   "metadata": {},
   "outputs": [],
   "source": [
    "print('Test')\n",
    "run_model(sess,y_out,mean_loss,X_test,y_test,1,40)"
   ]
  },
  {
   "cell_type": "code",
   "execution_count": null,
   "metadata": {},
   "outputs": [],
   "source": []
  }
 ],
 "metadata": {
  "kernelspec": {
   "display_name": "Python 3",
   "language": "python",
   "name": "python3"
  },
  "language_info": {
   "codemirror_mode": {
    "name": "ipython",
    "version": 3
   },
   "file_extension": ".py",
   "mimetype": "text/x-python",
   "name": "python",
   "nbconvert_exporter": "python",
   "pygments_lexer": "ipython3",
   "version": "3.6.2"
  }
 },
 "nbformat": 4,
 "nbformat_minor": 2
}
