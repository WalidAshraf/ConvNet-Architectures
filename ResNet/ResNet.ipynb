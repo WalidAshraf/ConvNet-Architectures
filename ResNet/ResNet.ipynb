{
 "cells": [
  {
   "cell_type": "code",
   "execution_count": null,
   "metadata": {},
   "outputs": [],
   "source": [
    "import tensorflow as tf\n",
    "import numpy as np\n",
    "import math\n",
    "import matplotlib.pyplot as plt\n",
    "%matplotlib inline"
   ]
  },
  {
   "cell_type": "code",
   "execution_count": null,
   "metadata": {},
   "outputs": [],
   "source": [
    "from data_utils import load_CIFAR10\n",
    "\n",
    "def get_CIFAR10_data(num_training=49000, num_validation=1000, num_test=10000):\n",
    "    \"\"\"\n",
    "    Load the CIFAR-10 dataset from disk and perform preprocessing to prepare\n",
    "    it for the two-layer neural net classifier. These are the same steps as\n",
    "    we used for the SVM, but condensed to a single function.  \n",
    "    \"\"\"\n",
    "    # Load the raw CIFAR-10 data\n",
    "    cifar10_dir = 'cifar-10-batches-py'\n",
    "    X_train, y_train, X_test, y_test = load_CIFAR10(cifar10_dir)\n",
    "\n",
    "    # Subsample the data\n",
    "    mask = range(num_training, num_training + num_validation)\n",
    "    X_val = X_train[mask]\n",
    "    y_val = y_train[mask]\n",
    "    mask = range(num_training)\n",
    "    X_train = X_train[mask]\n",
    "    y_train = y_train[mask]\n",
    "    mask = range(num_test)\n",
    "    X_test = X_test[mask]\n",
    "    y_test = y_test[mask]\n",
    "\n",
    "    # Normalize the data: subtract the mean image\n",
    "    mean_image = np.mean(X_train, axis=0)\n",
    "    X_train -= mean_image\n",
    "    X_val -= mean_image\n",
    "    X_test -= mean_image\n",
    "\n",
    "    return X_train, y_train, X_val, y_val, X_test, y_test\n",
    "\n",
    "\n",
    "# Invoke the above function to get our data.\n",
    "X_train, y_train, X_val, y_val, X_test, y_test = get_CIFAR10_data()\n",
    "print('Train data shape: ', X_train.shape)\n",
    "print('Train labels shape: ', y_train.shape)\n",
    "print('Validation data shape: ', X_val.shape)\n",
    "print('Validation labels shape: ', y_val.shape)\n",
    "print('Test data shape: ', X_test.shape)\n",
    "print('Test labels shape: ', y_test.shape)"
   ]
  },
  {
   "cell_type": "code",
   "execution_count": null,
   "metadata": {},
   "outputs": [],
   "source": [
    "def ConvLayer(a, filters, strides = (1, 1)):\n",
    "    return tf.layers.conv2d(a, filters=filters, kernel_size=(3, 3), strides=strides, padding=\"same\", kernel_initializer=tf.contrib.layers.xavier_initializer(), bias_initializer=tf.initializers.zeros(), kernel_regularizer=tf.contrib.layers.l2_regularizer(0.0001))"
   ]
  },
  {
   "cell_type": "code",
   "execution_count": null,
   "metadata": {},
   "outputs": [],
   "source": [
    "def NormRelu(a):\n",
    "    return tf.nn.relu(tf.layers.batch_normalization(a))"
   ]
  },
  {
   "cell_type": "code",
   "execution_count": null,
   "metadata": {},
   "outputs": [],
   "source": [
    "def ConvRelu(a, filters, strides = (1, 1)):\n",
    "    return NormRelu(ConvLayer(a, filters, strides))"
   ]
  },
  {
   "cell_type": "code",
   "execution_count": null,
   "metadata": {},
   "outputs": [],
   "source": [
    "def ResBlock(a, filters):\n",
    "    z1 = ConvRelu(a, filters)\n",
    "    z2 = ConvRelu(z1, filters)\n",
    "    z3 = ConvLayer(z2, filters)\n",
    "    z4 = z3 + a\n",
    "    return NormRelu(z4)"
   ]
  },
  {
   "cell_type": "code",
   "execution_count": null,
   "metadata": {},
   "outputs": [],
   "source": [
    "def ResNetModel(x, num_classes):\n",
    "    a1 = ConvRelu(x, 16)\n",
    "    a2 = ResBlock(a1, 16)\n",
    "    a3 = ConvRelu(a2, 32, (2, 2))\n",
    "    a4 = ResBlock(a3, 32)\n",
    "    a5 = ConvRelu(a4, 64, (2, 2))\n",
    "    a6 = ResBlock(a5, 64)\n",
    "    a7 = tf.layers.average_pooling2d(a6, pool_size=(2, 2), strides=(2, 2))\n",
    "    a8 = tf.layers.flatten(a7)\n",
    "    scores = tf.layers.dense(a8, units=num_classes, kernel_initializer=tf.contrib.layers.xavier_initializer(), bias_initializer=tf.initializers.zeros(), kernel_regularizer=tf.contrib.layers.l2_regularizer(0.0001))\n",
    "    \n",
    "    return scores"
   ]
  },
  {
   "cell_type": "code",
   "execution_count": null,
   "metadata": {},
   "outputs": [],
   "source": [
    "def run_model(session, predict, loss_val, Xd, yd, lr,\n",
    "              epochs=1, batch_size=64, print_every=100,\n",
    "              training=None, plot_losses=False):\n",
    "    # have tensorflow compute accuracy\n",
    "    correct_prediction = tf.equal(tf.cast(tf.argmax(predict,1), tf.int32), y)\n",
    "    accuracy = tf.reduce_mean(tf.cast(correct_prediction, tf.float32))\n",
    "    \n",
    "    # shuffle indicies\n",
    "    train_indicies = np.arange(Xd.shape[0])\n",
    "    np.random.shuffle(train_indicies)\n",
    "\n",
    "    training_now = training is not None\n",
    "    \n",
    "    # setting up variables we want to compute (and optimizing)\n",
    "    # if we have a training function, add that to things we compute\n",
    "    variables = [mean_loss,correct_prediction,accuracy]\n",
    "    if training_now:\n",
    "        variables[-1] = training\n",
    "    \n",
    "    # counter \n",
    "    iter_cnt = 0\n",
    "    for e in range(epochs):\n",
    "        # keep track of losses and accuracy\n",
    "        correct = 0\n",
    "        losses = []\n",
    "        # make sure we iterate over the dataset once\n",
    "        for i in range(int(math.ceil(Xd.shape[0]/batch_size))):\n",
    "            # generate indicies for the batch\n",
    "            start_idx = (i*batch_size)%Xd.shape[0]\n",
    "            idx = train_indicies[start_idx:start_idx+batch_size]\n",
    "            \n",
    "            # create a feed dictionary for this batch\n",
    "            feed_dict = {X: Xd[idx,:],\n",
    "                         y: yd[idx],\n",
    "                         is_training: training_now,\n",
    "                         learning_rate:lr }\n",
    "            # get batch size\n",
    "            actual_batch_size = yd[idx].shape[0]\n",
    "            \n",
    "            # have tensorflow compute loss and correct predictions\n",
    "            # and (if given) perform a training step\n",
    "            loss, corr, _ = session.run(variables,feed_dict=feed_dict)\n",
    "            \n",
    "            # aggregate performance stats\n",
    "            losses.append(loss*actual_batch_size)\n",
    "            correct += np.sum(corr)\n",
    "            \n",
    "            # print every now and then\n",
    "            if training_now and (iter_cnt % print_every) == 0:\n",
    "                print(\"Iteration {0}: with minibatch training loss = {1:.3g} and accuracy of {2:.2g}\"\\\n",
    "                      .format(iter_cnt,loss,np.sum(corr)/float(actual_batch_size)))\n",
    "            iter_cnt += 1\n",
    "        total_correct = float(correct)/Xd.shape[0]\n",
    "        total_loss = np.sum(losses, dtype=float)/Xd.shape[0]\n",
    "        print(\"Epoch {2}, Overall loss = {0:.3g} and accuracy of {1:.3g}\"\\\n",
    "              .format(total_loss,total_correct,e+1))\n",
    "        if plot_losses:\n",
    "            plt.plot(losses)\n",
    "            plt.grid(True)\n",
    "            plt.title('Epoch {} Loss'.format(e+1))\n",
    "            plt.xlabel('minibatch number')\n",
    "            plt.ylabel('minibatch loss')\n",
    "            plt.show()\n",
    "    return total_loss,total_correct"
   ]
  },
  {
   "cell_type": "code",
   "execution_count": null,
   "metadata": {},
   "outputs": [],
   "source": [
    "tf.reset_default_graph()\n",
    "\n",
    "X = tf.placeholder(tf.float32, [None, 32, 32, 3])\n",
    "y = tf.placeholder(tf.int32, [None])\n",
    "is_training = tf.placeholder(tf.bool)\n",
    "learning_rate = tf.placeholder(tf.float32)\n",
    "\n",
    "num_classes = 10\n",
    "\n",
    "y_out = ResNetModel(X, num_classes)\n",
    "\n",
    "total_loss = tf.losses.softmax_cross_entropy(tf.one_hot(y,num_classes),logits=y_out)\n",
    "mean_loss = tf.reduce_mean(total_loss)\n",
    "\n",
    "#global_step = tf.Variable(0, trainable=False)\n",
    "#starter_learning_rate = 0.02\n",
    "#learning_rate = tf.train.exponential_decay(starter_learning_rate, global_step,\n",
    " #                                          500, 0.96, staircase=True)\n",
    "\n",
    "optimizer = tf.train.MomentumOptimizer(learning_rate, 0.9)\n",
    "\n",
    "extra_update_ops = tf.get_collection(tf.GraphKeys.UPDATE_OPS)\n",
    "with tf.control_dependencies(extra_update_ops):\n",
    "    train_step = optimizer.minimize(mean_loss)\n",
    "    \n",
    "    \n",
    "saver = tf.train.Saver()\n",
    "\n",
    "config = tf.ConfigProto()\n",
    "config.gpu_options.allocator_type = 'BFC'\n",
    "\n",
    "sess = tf.Session(config = config)\n",
    "\n",
    "sess.run(tf.global_variables_initializer())\n",
    "'''train_accs = []\n",
    "val_accs = []\n",
    "max_val_acc = 0.0\n",
    "for i in range(50):    \n",
    "    print('Training')\n",
    "    loss, acc = run_model(sess,y_out,mean_loss,X_train,y_train,1,256,100,train_step,True)\n",
    "    train_accs.append(acc)\n",
    "    print('Validation')\n",
    "    loss, acc = run_model(sess,y_out,mean_loss,X_val,y_val,1,256)\n",
    "    val_accs.append(acc)\n",
    "    if acc > max_val_acc:\n",
    "        max_val_acc = acc\n",
    "        saver.save(sess, './model_tensorflow.ckpt')'''"
   ]
  },
  {
   "cell_type": "code",
   "execution_count": null,
   "metadata": {},
   "outputs": [],
   "source": [
    "def train(t_accs, v_accs, max_v_acc, num_ephocs, batch_size, lr):\n",
    "    train_accs = t_accs\n",
    "    val_accs = v_accs\n",
    "    max_val_acc = max_v_acc\n",
    "    for i in range(num_ephocs):    \n",
    "        print('Training')\n",
    "        loss, acc = run_model(sess,y_out,mean_loss,X_train,y_train, lr, 1,batch_size,100,train_step,True)\n",
    "        train_accs.append(acc)\n",
    "        print('Validation')\n",
    "        loss, acc = run_model(sess,y_out,mean_loss,X_val,y_val, lr, 1,batch_size)\n",
    "        val_accs.append(acc)\n",
    "        if acc > max_val_acc:\n",
    "            max_val_acc = acc\n",
    "            saver.save(sess, './model_tensorflow.ckpt')\n",
    "        if lr % 15 == 0:\n",
    "            lr /= 10\n",
    "    return train_accs, val_accs, max_val_acc, lr"
   ]
  },
  {
   "cell_type": "code",
   "execution_count": null,
   "metadata": {},
   "outputs": [],
   "source": [
    "train_accs = []\n",
    "val_accs = []\n",
    "max_val_acc = 0.692\n",
    "lr = 0.001"
   ]
  },
  {
   "cell_type": "code",
   "execution_count": null,
   "metadata": {
    "scrolled": true
   },
   "outputs": [],
   "source": [
    "train_accs, val_accs, max_val_acc, lr = train(train_accs, val_accs, max_val_acc, 100, 256, lr)"
   ]
  },
  {
   "cell_type": "code",
   "execution_count": null,
   "metadata": {},
   "outputs": [],
   "source": [
    "saver.save(sess, './model-overfitted.ckpt')"
   ]
  },
  {
   "cell_type": "code",
   "execution_count": null,
   "metadata": {},
   "outputs": [],
   "source": [
    "t = range(len(train_accs))\n",
    "plt.plot(t, train_accs, 'r--', label = \"train acc\")\n",
    "plt.plot(t, val_accs, 'b--', label = \"val acc\")\n",
    "plt.xlabel('epochs')\n",
    "plt.ylabel('accuracy')\n",
    "plt.legend(bbox_to_anchor=(0., 1.02, 1., .102), loc=3,\n",
    "           ncol=2, mode=\"expand\", borderaxespad=0.)\n",
    "plt.savefig('train_val_acc2.jpg')\n",
    "plt.show()"
   ]
  },
  {
   "cell_type": "code",
   "execution_count": null,
   "metadata": {},
   "outputs": [],
   "source": [
    "saver.restore(sess, \"model_tensorflow.ckpt\")"
   ]
  },
  {
   "cell_type": "code",
   "execution_count": null,
   "metadata": {},
   "outputs": [],
   "source": [
    "print('Validation')\n",
    "run_model(sess,y_out,mean_loss,X_val,y_val, None, 1,40)"
   ]
  },
  {
   "cell_type": "code",
   "execution_count": null,
   "metadata": {},
   "outputs": [],
   "source": [
    "print('Test')\n",
    "run_model(sess,y_out,mean_loss,X_test,y_test, None,1,40)"
   ]
  },
  {
   "cell_type": "code",
   "execution_count": null,
   "metadata": {},
   "outputs": [],
   "source": []
  }
 ],
 "metadata": {
  "kernelspec": {
   "display_name": "Python 3",
   "language": "python",
   "name": "python3"
  },
  "language_info": {
   "codemirror_mode": {
    "name": "ipython",
    "version": 3
   },
   "file_extension": ".py",
   "mimetype": "text/x-python",
   "name": "python",
   "nbconvert_exporter": "python",
   "pygments_lexer": "ipython3",
   "version": "3.6.2"
  }
 },
 "nbformat": 4,
 "nbformat_minor": 2
}
